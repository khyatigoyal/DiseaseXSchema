{
 "cells": [
  {
   "cell_type": "markdown",
   "metadata": {},
   "source": [
    "# Importing Libraries"
   ]
  },
  {
   "cell_type": "code",
   "execution_count": 1,
   "metadata": {},
   "outputs": [],
   "source": [
    "import pandas as pd\n",
    "import numpy as np\n",
    "import matplotlib.pyplot as plt\n",
    "from sklearn.cluster import KMeans\n",
    "import seaborn as sns; sns.set()\n",
    "import csv\n",
    "import json \n",
    "import ipympl\n",
    "# %matplotlib\n",
    "from pylab import rcParams\n",
    "import math"
   ]
  },
  {
   "cell_type": "markdown",
   "metadata": {},
   "source": [
    "## Converting JSON to CSV"
   ]
  },
  {
   "cell_type": "code",
   "execution_count": 2,
   "metadata": {},
   "outputs": [],
   "source": [
    "with open('clusteringDB.json') as json_file: \n",
    "    data = json.load(json_file)\n",
    "    \n",
    "cluster_data = data['DB']\n",
    "clusteringDB = open('clusteringDB.csv', 'w')\n",
    "csv_writer = csv.writer(clusteringDB)\n",
    "count = 0\n",
    "  \n",
    "for x in cluster_data: \n",
    "    if count == 0: \n",
    "  \n",
    "        header = x.keys() \n",
    "        csv_writer.writerow(header) \n",
    "        count += 1\n",
    "   \n",
    "    csv_writer.writerow(x.values()) \n",
    "  \n",
    "clusteringDB.close() "
   ]
  },
  {
   "cell_type": "markdown",
   "metadata": {},
   "source": [
    "## Reading Data"
   ]
  },
  {
   "cell_type": "code",
   "execution_count": 3,
   "metadata": {},
   "outputs": [
    {
     "data": {
      "text/html": [
       "<div>\n",
       "<style scoped>\n",
       "    .dataframe tbody tr th:only-of-type {\n",
       "        vertical-align: middle;\n",
       "    }\n",
       "\n",
       "    .dataframe tbody tr th {\n",
       "        vertical-align: top;\n",
       "    }\n",
       "\n",
       "    .dataframe thead th {\n",
       "        text-align: right;\n",
       "    }\n",
       "</style>\n",
       "<table border=\"1\" class=\"dataframe\">\n",
       "  <thead>\n",
       "    <tr style=\"text-align: right;\">\n",
       "      <th></th>\n",
       "      <th>lat</th>\n",
       "      <th>long</th>\n",
       "      <th>disease</th>\n",
       "      <th>diseased</th>\n",
       "    </tr>\n",
       "  </thead>\n",
       "  <tbody>\n",
       "    <tr>\n",
       "      <td>0</td>\n",
       "      <td>12.34567</td>\n",
       "      <td>98.76543</td>\n",
       "      <td>Blackleg</td>\n",
       "      <td>True</td>\n",
       "    </tr>\n",
       "    <tr>\n",
       "      <td>1</td>\n",
       "      <td>12.34765</td>\n",
       "      <td>93.76543</td>\n",
       "      <td>Blackleg</td>\n",
       "      <td>True</td>\n",
       "    </tr>\n",
       "    <tr>\n",
       "      <td>2</td>\n",
       "      <td>14.34567</td>\n",
       "      <td>98.86543</td>\n",
       "      <td>Enterotoxaemia (pulpy kidney)</td>\n",
       "      <td>True</td>\n",
       "    </tr>\n",
       "    <tr>\n",
       "      <td>3</td>\n",
       "      <td>12.34444</td>\n",
       "      <td>98.01010</td>\n",
       "      <td>Classical swine fever</td>\n",
       "      <td>True</td>\n",
       "    </tr>\n",
       "    <tr>\n",
       "      <td>4</td>\n",
       "      <td>10.34567</td>\n",
       "      <td>100.76543</td>\n",
       "      <td>Azurskey's</td>\n",
       "      <td>True</td>\n",
       "    </tr>\n",
       "  </tbody>\n",
       "</table>\n",
       "</div>"
      ],
      "text/plain": [
       "        lat       long                        disease  diseased\n",
       "0  12.34567   98.76543                       Blackleg      True\n",
       "1  12.34765   93.76543                       Blackleg      True\n",
       "2  14.34567   98.86543  Enterotoxaemia (pulpy kidney)      True\n",
       "3  12.34444   98.01010          Classical swine fever      True\n",
       "4  10.34567  100.76543                     Azurskey's      True"
      ]
     },
     "execution_count": 3,
     "metadata": {},
     "output_type": "execute_result"
    }
   ],
   "source": [
    "df=pd.read_csv('clusteringDB.csv')\n",
    "df.head()\n",
    "# df.dropna(axis=0,how='any',subset=['lat','long'],inplace=True)"
   ]
  },
  {
   "cell_type": "code",
   "execution_count": 4,
   "metadata": {},
   "outputs": [
    {
     "data": {
      "text/html": [
       "<div>\n",
       "<style scoped>\n",
       "    .dataframe tbody tr th:only-of-type {\n",
       "        vertical-align: middle;\n",
       "    }\n",
       "\n",
       "    .dataframe tbody tr th {\n",
       "        vertical-align: top;\n",
       "    }\n",
       "\n",
       "    .dataframe thead th {\n",
       "        text-align: right;\n",
       "    }\n",
       "</style>\n",
       "<table border=\"1\" class=\"dataframe\">\n",
       "  <thead>\n",
       "    <tr style=\"text-align: right;\">\n",
       "      <th></th>\n",
       "      <th>disease</th>\n",
       "      <th>lat</th>\n",
       "      <th>long</th>\n",
       "    </tr>\n",
       "  </thead>\n",
       "  <tbody>\n",
       "    <tr>\n",
       "      <td>0</td>\n",
       "      <td>Blackleg</td>\n",
       "      <td>12.34567</td>\n",
       "      <td>98.76543</td>\n",
       "    </tr>\n",
       "    <tr>\n",
       "      <td>1</td>\n",
       "      <td>Blackleg</td>\n",
       "      <td>12.34765</td>\n",
       "      <td>93.76543</td>\n",
       "    </tr>\n",
       "    <tr>\n",
       "      <td>2</td>\n",
       "      <td>Enterotoxaemia (pulpy kidney)</td>\n",
       "      <td>14.34567</td>\n",
       "      <td>98.86543</td>\n",
       "    </tr>\n",
       "    <tr>\n",
       "      <td>3</td>\n",
       "      <td>Classical swine fever</td>\n",
       "      <td>12.34444</td>\n",
       "      <td>98.01010</td>\n",
       "    </tr>\n",
       "    <tr>\n",
       "      <td>4</td>\n",
       "      <td>Azurskey's</td>\n",
       "      <td>10.34567</td>\n",
       "      <td>100.76543</td>\n",
       "    </tr>\n",
       "    <tr>\n",
       "      <td>5</td>\n",
       "      <td>Blackleg</td>\n",
       "      <td>21.34567</td>\n",
       "      <td>80.76543</td>\n",
       "    </tr>\n",
       "    <tr>\n",
       "      <td>6</td>\n",
       "      <td>Azurskey's</td>\n",
       "      <td>18.34507</td>\n",
       "      <td>90.70543</td>\n",
       "    </tr>\n",
       "    <tr>\n",
       "      <td>7</td>\n",
       "      <td>Classical swine fever</td>\n",
       "      <td>12.00000</td>\n",
       "      <td>98.42424</td>\n",
       "    </tr>\n",
       "    <tr>\n",
       "      <td>8</td>\n",
       "      <td>Enterotoxaemia (pulpy kidney)</td>\n",
       "      <td>25.87875</td>\n",
       "      <td>92.79543</td>\n",
       "    </tr>\n",
       "    <tr>\n",
       "      <td>9</td>\n",
       "      <td>Blackleg</td>\n",
       "      <td>17.34567</td>\n",
       "      <td>91.76543</td>\n",
       "    </tr>\n",
       "    <tr>\n",
       "      <td>10</td>\n",
       "      <td>Enterotoxaemia (pulpy kidney)</td>\n",
       "      <td>12.30067</td>\n",
       "      <td>99.77543</td>\n",
       "    </tr>\n",
       "    <tr>\n",
       "      <td>11</td>\n",
       "      <td>Azurskey's</td>\n",
       "      <td>22.12345</td>\n",
       "      <td>98.12345</td>\n",
       "    </tr>\n",
       "    <tr>\n",
       "      <td>12</td>\n",
       "      <td>Blackleg</td>\n",
       "      <td>34.23410</td>\n",
       "      <td>98.99950</td>\n",
       "    </tr>\n",
       "    <tr>\n",
       "      <td>13</td>\n",
       "      <td>Blackleg</td>\n",
       "      <td>19.34567</td>\n",
       "      <td>96.77743</td>\n",
       "    </tr>\n",
       "    <tr>\n",
       "      <td>14</td>\n",
       "      <td>Classical swine fever</td>\n",
       "      <td>29.55566</td>\n",
       "      <td>78.76043</td>\n",
       "    </tr>\n",
       "    <tr>\n",
       "      <td>15</td>\n",
       "      <td>Enterotoxaemia (pulpy kidney)</td>\n",
       "      <td>12.34567</td>\n",
       "      <td>88.26242</td>\n",
       "    </tr>\n",
       "    <tr>\n",
       "      <td>16</td>\n",
       "      <td>Classical swine fever</td>\n",
       "      <td>45.33577</td>\n",
       "      <td>85.77443</td>\n",
       "    </tr>\n",
       "    <tr>\n",
       "      <td>17</td>\n",
       "      <td>Azurskey's</td>\n",
       "      <td>24.34521</td>\n",
       "      <td>105.90801</td>\n",
       "    </tr>\n",
       "    <tr>\n",
       "      <td>18</td>\n",
       "      <td>Enterotoxaemia (pulpy kidney)</td>\n",
       "      <td>6.34555</td>\n",
       "      <td>83.44243</td>\n",
       "    </tr>\n",
       "    <tr>\n",
       "      <td>19</td>\n",
       "      <td>Azurskey's</td>\n",
       "      <td>4.12222</td>\n",
       "      <td>75.75757</td>\n",
       "    </tr>\n",
       "    <tr>\n",
       "      <td>20</td>\n",
       "      <td>Blackleg</td>\n",
       "      <td>34.11111</td>\n",
       "      <td>69.22222</td>\n",
       "    </tr>\n",
       "    <tr>\n",
       "      <td>21</td>\n",
       "      <td>Azurskey's</td>\n",
       "      <td>13.98897</td>\n",
       "      <td>94.65656</td>\n",
       "    </tr>\n",
       "    <tr>\n",
       "      <td>22</td>\n",
       "      <td>Enterotoxaemia (pulpy kidney)</td>\n",
       "      <td>15.21345</td>\n",
       "      <td>95.00871</td>\n",
       "    </tr>\n",
       "    <tr>\n",
       "      <td>23</td>\n",
       "      <td>Blackleg</td>\n",
       "      <td>32.34567</td>\n",
       "      <td>72.00001</td>\n",
       "    </tr>\n",
       "    <tr>\n",
       "      <td>24</td>\n",
       "      <td>Classical swine fever</td>\n",
       "      <td>32.34431</td>\n",
       "      <td>98.76500</td>\n",
       "    </tr>\n",
       "    <tr>\n",
       "      <td>25</td>\n",
       "      <td>Blackleg</td>\n",
       "      <td>33.32244</td>\n",
       "      <td>90.00100</td>\n",
       "    </tr>\n",
       "    <tr>\n",
       "      <td>26</td>\n",
       "      <td>Azurskey's</td>\n",
       "      <td>26.34444</td>\n",
       "      <td>100.10111</td>\n",
       "    </tr>\n",
       "    <tr>\n",
       "      <td>27</td>\n",
       "      <td>Azurskey's</td>\n",
       "      <td>35.34452</td>\n",
       "      <td>93.54321</td>\n",
       "    </tr>\n",
       "    <tr>\n",
       "      <td>28</td>\n",
       "      <td>Enterotoxaemia (pulpy kidney)</td>\n",
       "      <td>88.88887</td>\n",
       "      <td>87.65472</td>\n",
       "    </tr>\n",
       "    <tr>\n",
       "      <td>29</td>\n",
       "      <td>Blackleg</td>\n",
       "      <td>33.33334</td>\n",
       "      <td>89.65890</td>\n",
       "    </tr>\n",
       "  </tbody>\n",
       "</table>\n",
       "</div>"
      ],
      "text/plain": [
       "                          disease       lat       long\n",
       "0                        Blackleg  12.34567   98.76543\n",
       "1                        Blackleg  12.34765   93.76543\n",
       "2   Enterotoxaemia (pulpy kidney)  14.34567   98.86543\n",
       "3           Classical swine fever  12.34444   98.01010\n",
       "4                      Azurskey's  10.34567  100.76543\n",
       "5                        Blackleg  21.34567   80.76543\n",
       "6                      Azurskey's  18.34507   90.70543\n",
       "7           Classical swine fever  12.00000   98.42424\n",
       "8   Enterotoxaemia (pulpy kidney)  25.87875   92.79543\n",
       "9                        Blackleg  17.34567   91.76543\n",
       "10  Enterotoxaemia (pulpy kidney)  12.30067   99.77543\n",
       "11                     Azurskey's  22.12345   98.12345\n",
       "12                       Blackleg  34.23410   98.99950\n",
       "13                       Blackleg  19.34567   96.77743\n",
       "14          Classical swine fever  29.55566   78.76043\n",
       "15  Enterotoxaemia (pulpy kidney)  12.34567   88.26242\n",
       "16          Classical swine fever  45.33577   85.77443\n",
       "17                     Azurskey's  24.34521  105.90801\n",
       "18  Enterotoxaemia (pulpy kidney)   6.34555   83.44243\n",
       "19                     Azurskey's   4.12222   75.75757\n",
       "20                       Blackleg  34.11111   69.22222\n",
       "21                     Azurskey's  13.98897   94.65656\n",
       "22  Enterotoxaemia (pulpy kidney)  15.21345   95.00871\n",
       "23                       Blackleg  32.34567   72.00001\n",
       "24          Classical swine fever  32.34431   98.76500\n",
       "25                       Blackleg  33.32244   90.00100\n",
       "26                     Azurskey's  26.34444  100.10111\n",
       "27                     Azurskey's  35.34452   93.54321\n",
       "28  Enterotoxaemia (pulpy kidney)  88.88887   87.65472\n",
       "29                       Blackleg  33.33334   89.65890"
      ]
     },
     "execution_count": 4,
     "metadata": {},
     "output_type": "execute_result"
    }
   ],
   "source": [
    "X=df.loc[:,['disease','lat','long']]\n",
    "X"
   ]
  },
  {
   "cell_type": "code",
   "execution_count": 5,
   "metadata": {},
   "outputs": [
    {
     "data": {
      "text/plain": [
       "4"
      ]
     },
     "execution_count": 5,
     "metadata": {},
     "output_type": "execute_result"
    }
   ],
   "source": [
    "count = X['disease'].nunique()\n",
    "# df['hID'].nunique()\n",
    "count"
   ]
  },
  {
   "cell_type": "markdown",
   "metadata": {},
   "source": [
    "## Label Encoding"
   ]
  },
  {
   "cell_type": "code",
   "execution_count": 6,
   "metadata": {},
   "outputs": [],
   "source": [
    "from sklearn.preprocessing import LabelEncoder\n",
    "le = LabelEncoder()"
   ]
  },
  {
   "cell_type": "code",
   "execution_count": 7,
   "metadata": {},
   "outputs": [
    {
     "data": {
      "text/html": [
       "<div>\n",
       "<style scoped>\n",
       "    .dataframe tbody tr th:only-of-type {\n",
       "        vertical-align: middle;\n",
       "    }\n",
       "\n",
       "    .dataframe tbody tr th {\n",
       "        vertical-align: top;\n",
       "    }\n",
       "\n",
       "    .dataframe thead th {\n",
       "        text-align: right;\n",
       "    }\n",
       "</style>\n",
       "<table border=\"1\" class=\"dataframe\">\n",
       "  <thead>\n",
       "    <tr style=\"text-align: right;\">\n",
       "      <th></th>\n",
       "      <th>disease</th>\n",
       "      <th>lat</th>\n",
       "      <th>long</th>\n",
       "    </tr>\n",
       "  </thead>\n",
       "  <tbody>\n",
       "    <tr>\n",
       "      <td>0</td>\n",
       "      <td>1</td>\n",
       "      <td>12.34567</td>\n",
       "      <td>98.76543</td>\n",
       "    </tr>\n",
       "    <tr>\n",
       "      <td>1</td>\n",
       "      <td>1</td>\n",
       "      <td>12.34765</td>\n",
       "      <td>93.76543</td>\n",
       "    </tr>\n",
       "    <tr>\n",
       "      <td>2</td>\n",
       "      <td>3</td>\n",
       "      <td>14.34567</td>\n",
       "      <td>98.86543</td>\n",
       "    </tr>\n",
       "    <tr>\n",
       "      <td>3</td>\n",
       "      <td>2</td>\n",
       "      <td>12.34444</td>\n",
       "      <td>98.01010</td>\n",
       "    </tr>\n",
       "    <tr>\n",
       "      <td>4</td>\n",
       "      <td>0</td>\n",
       "      <td>10.34567</td>\n",
       "      <td>100.76543</td>\n",
       "    </tr>\n",
       "    <tr>\n",
       "      <td>5</td>\n",
       "      <td>1</td>\n",
       "      <td>21.34567</td>\n",
       "      <td>80.76543</td>\n",
       "    </tr>\n",
       "    <tr>\n",
       "      <td>6</td>\n",
       "      <td>0</td>\n",
       "      <td>18.34507</td>\n",
       "      <td>90.70543</td>\n",
       "    </tr>\n",
       "    <tr>\n",
       "      <td>7</td>\n",
       "      <td>2</td>\n",
       "      <td>12.00000</td>\n",
       "      <td>98.42424</td>\n",
       "    </tr>\n",
       "    <tr>\n",
       "      <td>8</td>\n",
       "      <td>3</td>\n",
       "      <td>25.87875</td>\n",
       "      <td>92.79543</td>\n",
       "    </tr>\n",
       "    <tr>\n",
       "      <td>9</td>\n",
       "      <td>1</td>\n",
       "      <td>17.34567</td>\n",
       "      <td>91.76543</td>\n",
       "    </tr>\n",
       "    <tr>\n",
       "      <td>10</td>\n",
       "      <td>3</td>\n",
       "      <td>12.30067</td>\n",
       "      <td>99.77543</td>\n",
       "    </tr>\n",
       "    <tr>\n",
       "      <td>11</td>\n",
       "      <td>0</td>\n",
       "      <td>22.12345</td>\n",
       "      <td>98.12345</td>\n",
       "    </tr>\n",
       "    <tr>\n",
       "      <td>12</td>\n",
       "      <td>1</td>\n",
       "      <td>34.23410</td>\n",
       "      <td>98.99950</td>\n",
       "    </tr>\n",
       "    <tr>\n",
       "      <td>13</td>\n",
       "      <td>1</td>\n",
       "      <td>19.34567</td>\n",
       "      <td>96.77743</td>\n",
       "    </tr>\n",
       "    <tr>\n",
       "      <td>14</td>\n",
       "      <td>2</td>\n",
       "      <td>29.55566</td>\n",
       "      <td>78.76043</td>\n",
       "    </tr>\n",
       "    <tr>\n",
       "      <td>15</td>\n",
       "      <td>3</td>\n",
       "      <td>12.34567</td>\n",
       "      <td>88.26242</td>\n",
       "    </tr>\n",
       "    <tr>\n",
       "      <td>16</td>\n",
       "      <td>2</td>\n",
       "      <td>45.33577</td>\n",
       "      <td>85.77443</td>\n",
       "    </tr>\n",
       "    <tr>\n",
       "      <td>17</td>\n",
       "      <td>0</td>\n",
       "      <td>24.34521</td>\n",
       "      <td>105.90801</td>\n",
       "    </tr>\n",
       "    <tr>\n",
       "      <td>18</td>\n",
       "      <td>3</td>\n",
       "      <td>6.34555</td>\n",
       "      <td>83.44243</td>\n",
       "    </tr>\n",
       "    <tr>\n",
       "      <td>19</td>\n",
       "      <td>0</td>\n",
       "      <td>4.12222</td>\n",
       "      <td>75.75757</td>\n",
       "    </tr>\n",
       "    <tr>\n",
       "      <td>20</td>\n",
       "      <td>1</td>\n",
       "      <td>34.11111</td>\n",
       "      <td>69.22222</td>\n",
       "    </tr>\n",
       "    <tr>\n",
       "      <td>21</td>\n",
       "      <td>0</td>\n",
       "      <td>13.98897</td>\n",
       "      <td>94.65656</td>\n",
       "    </tr>\n",
       "    <tr>\n",
       "      <td>22</td>\n",
       "      <td>3</td>\n",
       "      <td>15.21345</td>\n",
       "      <td>95.00871</td>\n",
       "    </tr>\n",
       "    <tr>\n",
       "      <td>23</td>\n",
       "      <td>1</td>\n",
       "      <td>32.34567</td>\n",
       "      <td>72.00001</td>\n",
       "    </tr>\n",
       "    <tr>\n",
       "      <td>24</td>\n",
       "      <td>2</td>\n",
       "      <td>32.34431</td>\n",
       "      <td>98.76500</td>\n",
       "    </tr>\n",
       "    <tr>\n",
       "      <td>25</td>\n",
       "      <td>1</td>\n",
       "      <td>33.32244</td>\n",
       "      <td>90.00100</td>\n",
       "    </tr>\n",
       "    <tr>\n",
       "      <td>26</td>\n",
       "      <td>0</td>\n",
       "      <td>26.34444</td>\n",
       "      <td>100.10111</td>\n",
       "    </tr>\n",
       "    <tr>\n",
       "      <td>27</td>\n",
       "      <td>0</td>\n",
       "      <td>35.34452</td>\n",
       "      <td>93.54321</td>\n",
       "    </tr>\n",
       "    <tr>\n",
       "      <td>28</td>\n",
       "      <td>3</td>\n",
       "      <td>88.88887</td>\n",
       "      <td>87.65472</td>\n",
       "    </tr>\n",
       "    <tr>\n",
       "      <td>29</td>\n",
       "      <td>1</td>\n",
       "      <td>33.33334</td>\n",
       "      <td>89.65890</td>\n",
       "    </tr>\n",
       "  </tbody>\n",
       "</table>\n",
       "</div>"
      ],
      "text/plain": [
       "    disease       lat       long\n",
       "0         1  12.34567   98.76543\n",
       "1         1  12.34765   93.76543\n",
       "2         3  14.34567   98.86543\n",
       "3         2  12.34444   98.01010\n",
       "4         0  10.34567  100.76543\n",
       "5         1  21.34567   80.76543\n",
       "6         0  18.34507   90.70543\n",
       "7         2  12.00000   98.42424\n",
       "8         3  25.87875   92.79543\n",
       "9         1  17.34567   91.76543\n",
       "10        3  12.30067   99.77543\n",
       "11        0  22.12345   98.12345\n",
       "12        1  34.23410   98.99950\n",
       "13        1  19.34567   96.77743\n",
       "14        2  29.55566   78.76043\n",
       "15        3  12.34567   88.26242\n",
       "16        2  45.33577   85.77443\n",
       "17        0  24.34521  105.90801\n",
       "18        3   6.34555   83.44243\n",
       "19        0   4.12222   75.75757\n",
       "20        1  34.11111   69.22222\n",
       "21        0  13.98897   94.65656\n",
       "22        3  15.21345   95.00871\n",
       "23        1  32.34567   72.00001\n",
       "24        2  32.34431   98.76500\n",
       "25        1  33.32244   90.00100\n",
       "26        0  26.34444  100.10111\n",
       "27        0  35.34452   93.54321\n",
       "28        3  88.88887   87.65472\n",
       "29        1  33.33334   89.65890"
      ]
     },
     "execution_count": 7,
     "metadata": {},
     "output_type": "execute_result"
    }
   ],
   "source": [
    "dfle = X\n",
    "dfle.disease = le.fit_transform(dfle.disease)\n",
    "dfle"
   ]
  },
  {
   "cell_type": "code",
   "execution_count": 8,
   "metadata": {},
   "outputs": [
    {
     "data": {
      "image/png": "[encoded data removed]",
      "text/plain": [
       "<Figure size 360x360 with 1 Axes>"
      ]
     },
     "metadata": {
      "needs_background": "light"
     },
     "output_type": "display_data"
    }
   ],
   "source": [
    "# ax = dfle.plot.scatter(x='lat', y='long', color='DarkGreen',s = 0);\n",
    "fig = plt.figure(figsize=(5,5))\n",
    "ax = fig.add_subplot(111)\n",
    "scatter = ax.scatter(dfle['lat'],dfle['long'],color='blue',s=50)"
   ]
  },
  {
   "cell_type": "code",
   "execution_count": 9,
   "metadata": {},
   "outputs": [],
   "source": [
    "# from sklearn.preprocessing import StandardScaler\n",
    "# X = dfle.values[:,1:]\n",
    "# X = np.nan_to_num(X)\n",
    "# Clus_dataSet = StandardScaler().fit_transform(X)\n",
    "# Clus_dataSet"
   ]
  },
  {
   "cell_type": "markdown",
   "metadata": {},
   "source": [
    "## K-Means Clustering\n",
    "### Elbow Curve"
   ]
  },
  {
   "cell_type": "code",
   "execution_count": 10,
   "metadata": {},
   "outputs": [],
   "source": [
    "dist_points_from_cluster_center = []\n",
    "K = range(1,10)\n",
    "for no_of_clusters in K:\n",
    "    k_model = KMeans(n_clusters = no_of_clusters)\n",
    "    k_model.fit(dfle[dfle.columns[1:3]])\n",
    "    dist_points_from_cluster_center.append(k_model.inertia_)"
   ]
  },
  {
   "cell_type": "code",
   "execution_count": 11,
   "metadata": {},
   "outputs": [
    {
     "data": {
      "text/plain": [
       "[9827.475628739803,\n",
       " 5419.770850100262,\n",
       " 2782.736547443421,\n",
       " 1794.450246840685,\n",
       " 1190.2585793969274,\n",
       " 814.4213892539188,\n",
       " 640.53077759423,\n",
       " 510.4963235122666,\n",
       " 367.7822573954549]"
      ]
     },
     "execution_count": 11,
     "metadata": {},
     "output_type": "execute_result"
    }
   ],
   "source": [
    "dist_points_from_cluster_center"
   ]
  },
  {
   "cell_type": "code",
   "execution_count": 12,
   "metadata": {},
   "outputs": [
    {
     "data": {
      "text/plain": [
       "[<matplotlib.lines.Line2D at 0x1cb0b61ba08>]"
      ]
     },
     "execution_count": 12,
     "metadata": {},
     "output_type": "execute_result"
    },
    {
     "data": {
      "image/png": "[encoded data removed]",
      "text/plain": [
       "<Figure size 432x288 with 1 Axes>"
      ]
     },
     "metadata": {
      "needs_background": "light"
     },
     "output_type": "display_data"
    }
   ],
   "source": [
    "plt.plot(K,dist_points_from_cluster_center)"
   ]
  },
  {
   "cell_type": "code",
   "execution_count": 13,
   "metadata": {},
   "outputs": [
    {
     "data": {
      "image/png": "[encoded data removed]",
      "text/plain": [
       "<Figure size 432x288 with 1 Axes>"
      ]
     },
     "metadata": {
      "needs_background": "light"
     },
     "output_type": "display_data"
    }
   ],
   "source": [
    "plt.plot(K,dist_points_from_cluster_center)\n",
    "plt.plot([K[0],K[8]], [dist_points_from_cluster_center[0],dist_points_from_cluster_center[8]],'ro-')\n",
    "plt.show()"
   ]
  },
  {
   "cell_type": "code",
   "execution_count": 14,
   "metadata": {},
   "outputs": [],
   "source": [
    "#Function to find distance between a point and a line\n",
    "def calc_distance(x1,y1,a,b,c):\n",
    "    d = abs((a*x1 + b*y1 +c))/(math.sqrt(a*a + b*b))\n",
    "    return d"
   ]
  },
  {
   "cell_type": "code",
   "execution_count": 15,
   "metadata": {},
   "outputs": [],
   "source": [
    "a = dist_points_from_cluster_center[0] - dist_points_from_cluster_center[8]\n",
    "b = K[8] - K[0]\n",
    "c1 = K[0]*dist_points_from_cluster_center[8]\n",
    "c2 = K[8]*dist_points_from_cluster_center[0]\n",
    "c = c1-c2"
   ]
  },
  {
   "cell_type": "code",
   "execution_count": 16,
   "metadata": {},
   "outputs": [],
   "source": [
    "distance_of_points_from_line = []\n",
    "for k in range(9):\n",
    "    distance_of_points_from_line.append(\n",
    "    calc_distance(K[k], dist_points_from_cluster_center[k],a,b,c))"
   ]
  },
  {
   "cell_type": "code",
   "execution_count": 17,
   "metadata": {},
   "outputs": [
    {
     "data": {
      "text/plain": [
       "[<matplotlib.lines.Line2D at 0x1cb0babca08>]"
      ]
     },
     "execution_count": 17,
     "metadata": {},
     "output_type": "execute_result"
    },
    {
     "data": {
      "image/png": "[encoded data removed]",
      "text/plain": [
       "<Figure size 432x288 with 1 Axes>"
      ]
     },
     "metadata": {
      "needs_background": "light"
     },
     "output_type": "display_data"
    }
   ],
   "source": [
    "plt.plot(K,distance_of_points_from_line)"
   ]
  },
  {
   "cell_type": "code",
   "execution_count": 18,
   "metadata": {},
   "outputs": [],
   "source": [
    "optimum_k = distance_of_points_from_line.index(max(distance_of_points_from_line)) + 1"
   ]
  },
  {
   "cell_type": "code",
   "execution_count": 19,
   "metadata": {},
   "outputs": [
    {
     "data": {
      "text/plain": [
       "3"
      ]
     },
     "execution_count": 19,
     "metadata": {},
     "output_type": "execute_result"
    }
   ],
   "source": [
    "optimum_k"
   ]
  },
  {
   "cell_type": "markdown",
   "metadata": {},
   "source": [
    "## Applying Algorithm"
   ]
  },
  {
   "cell_type": "code",
   "execution_count": 20,
   "metadata": {},
   "outputs": [],
   "source": [
    "kmeans = KMeans(n_clusters = optimum_k, init ='k-means++')\n",
    "kmeans.fit(dfle[dfle.columns[1:3]])\n",
    "dfle['cluster_label'] = kmeans.fit_predict(dfle[dfle.columns[1:3]])\n",
    "centers = kmeans.cluster_centers_\n",
    "labels = kmeans.labels_\n",
    "y = kmeans.fit_predict(dfle[dfle.columns[1:3]])"
   ]
  },
  {
   "cell_type": "code",
   "execution_count": 21,
   "metadata": {},
   "outputs": [
    {
     "data": {
      "text/plain": [
       "array([0, 0, 0, 0, 0, 1, 0, 0, 1, 0, 0, 0, 1, 0, 1, 0, 1, 0, 0, 0, 1, 0,\n",
       "       0, 1, 1, 1, 0, 1, 2, 1])"
      ]
     },
     "execution_count": 21,
     "metadata": {},
     "output_type": "execute_result"
    }
   ],
   "source": [
    "labels"
   ]
  },
  {
   "cell_type": "code",
   "execution_count": 22,
   "metadata": {},
   "outputs": [
    {
     "data": {
      "text/plain": [
       "array([[14.77195222, 94.93778   ],\n",
       "       [32.46830364, 86.38959636],\n",
       "       [88.88887   , 87.65472   ]])"
      ]
     },
     "execution_count": 22,
     "metadata": {},
     "output_type": "execute_result"
    }
   ],
   "source": [
    "centers"
   ]
  },
  {
   "cell_type": "code",
   "execution_count": 23,
   "metadata": {},
   "outputs": [
    {
     "data": {
      "image/png": "[encoded data removed]",
      "text/plain": [
       "<Figure size 360x360 with 1 Axes>"
      ]
     },
     "metadata": {
      "needs_background": "light"
     },
     "output_type": "display_data"
    }
   ],
   "source": [
    "# plt.style.use(['dark_background'])\n",
    "fig = plt.figure(figsize=(5,5))\n",
    "ax = fig.add_subplot(111)\n",
    "scatter = ax.scatter(dfle['lat'],dfle['long'],c=labels,s=50)\n",
    "for i,j in centers:\n",
    "    ax.scatter(i,j,s=100,c='red',marker='+')\n",
    "ax.set_xlabel('lat')\n",
    "ax.set_ylabel('long')\n",
    "# plt.colorbar(scatter)\n",
    "\n",
    "plt.show()"
   ]
  },
  {
   "cell_type": "code",
   "execution_count": 24,
   "metadata": {},
   "outputs": [],
   "source": [
    "import json\n",
    "\n",
    "data = centers\n",
    "list = [{\"latitude\": x[0], \"longitude\": x[1]} for x in data]\n",
    "\n",
    "output = json.dumps(list)"
   ]
  },
  {
   "cell_type": "code",
   "execution_count": 25,
   "metadata": {},
   "outputs": [
    {
     "data": {
      "text/plain": [
       "'[{\"latitude\": 14.771952222222222, \"longitude\": 94.93778}, {\"latitude\": 32.468303636363636, \"longitude\": 86.38959636363637}, {\"latitude\": 88.88887, \"longitude\": 87.65472}]'"
      ]
     },
     "execution_count": 25,
     "metadata": {},
     "output_type": "execute_result"
    }
   ],
   "source": [
    "output"
   ]
  },
  {
   "cell_type": "code",
   "execution_count": 26,
   "metadata": {},
   "outputs": [],
   "source": [
    "with open('result.json', 'w') as outfile:\n",
    "    json.dump(output, outfile,indent = 4)"
   ]
  },
  {
   "cell_type": "code",
   "execution_count": null,
   "metadata": {},
   "outputs": [],
   "source": []
  }
 ],
 "metadata": {
  "kernelspec": {
   "display_name": "Python 3",
   "language": "python",
   "name": "python3"
  },
  "language_info": {
   "codemirror_mode": {
    "name": "ipython",
    "version": 3
   },
   "file_extension": ".py",
   "mimetype": "text/x-python",
   "name": "python",
   "nbconvert_exporter": "python",
   "pygments_lexer": "ipython3",
   "version": "3.7.4"
  }
 },
 "nbformat": 4,
 "nbformat_minor": 4
}
